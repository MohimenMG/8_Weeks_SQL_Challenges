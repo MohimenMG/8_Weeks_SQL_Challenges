{
 "cells": [
  {
   "cell_type": "markdown",
   "metadata": {},
   "source": [
    "## SQL Date Operations (PostgreSQL)\n",
    "\n",
    "### Convert non-sql date format to sql 'yyyy-mm-dd'\n",
    "```sql\n",
    "TO_DATE('31/8/20', 'dd/mm/yy')\n",
    "TO_DATE('31820', 'ddmmyy') \n",
    "TO_DATE('31-aug-20', 'dd-mon-yy') \n",
    "TO_DATE('31-augest-20', 'dd-month-yy') \n",
    ">> 2020-08-31\n",
    "```\n",
    ">__Note:__ day of year, month, week are available too, check the docs for more formats\n",
    "\n",
    "### Perform interval math operations\n",
    "```sql\n",
    "TO_DATE('31/8/20', 'dd/mm/yy') + INTERVAL '2 YEARS 1 MONTHS 10 DAYS'\n",
    ">> 2022-10-10\n",
    "\n",
    "TO_DATE('31/8/20', 'dd/mm/yy') - INTERVAL '2 YEARS 1 MONTHS 10 DAYS'\n",
    ">> 2019-7-21\n",
    "```\n",
    "\n",
    "### Extract part of the date\n",
    "```sql\n",
    "-- EXTRACT numerical values from dates\n",
    "DATE_PART('month', '2020-08-31') -- month number\n",
    ">> 8\n",
    "\n",
    "DATE_PART('week', '2020-08-31') -- week of the year\n",
    ">> 36\n",
    "\n",
    "--EXTRACT date Names values in a Formated strings\n",
    "TO_CHAR( '2020-08-31' , 'month') \n",
    ">> 'augest'\n",
    "\n",
    "TO_CHAR( '2020-08-31'::Date , 'Dy, dd Mon yyyy') \n",
    ">> 'Mon, 31 Aug 2020'\n",
    "```\n",
    "> Note: you can extract year, dow (day of week), day (day of month), hour, quarter and others. check the docs for more"
   ]
  },
  {
   "cell_type": "markdown",
   "metadata": {},
   "source": [
    "## SQL String Operations (PostgreSQL)\n",
    "\n",
    "left right \n",
    "\n",
    "split \n",
    "\n",
    "length\n",
    "\n",
    "string_agg"
   ]
  },
  {
   "cell_type": "markdown",
   "metadata": {},
   "source": [
    "## Working Schema\n",
    "when working mostly on a specific schema to avoid the need to specify the schema name before the table name `schema_name.table_name` postgres has the _search path statment_ to define the current working schema\n",
    "\n",
    "```sql\n",
    "SET SEARCH_PATH = schema_name\n",
    "```"
   ]
  },
  {
   "cell_type": "markdown",
   "metadata": {},
   "source": []
  }
 ],
 "metadata": {
  "language_info": {
   "name": "python"
  }
 },
 "nbformat": 4,
 "nbformat_minor": 2
}
